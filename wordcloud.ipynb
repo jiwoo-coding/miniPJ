{
 "cells": [
  {
   "cell_type": "code",
   "execution_count": 14,
   "id": "bae47477",
   "metadata": {},
   "outputs": [],
   "source": [
    "import pandas as pd\n",
    "import numpy as np\n",
    "from kss import split_sentences\n",
    "from pykospacing import Spacing\n",
    "from hanspell import spell_checker\n",
    "from konlpy.tag import Okt, Kkma, Hannanum, Komoran, Mecab\n",
    "import re\n",
    "from textrankr import TextRank\n",
    "from typing import List\n",
    "import matplotlib.pyplot as plt\n",
    "from tqdm import tqdm\n",
    "from gensim.models import Word2Vec\n"
   ]
  },
  {
   "cell_type": "code",
   "execution_count": 9,
   "id": "2ef1397b",
   "metadata": {},
   "outputs": [],
   "source": [
    "answer_out = np.load('dataset/answer_out_ms_1.npy')\n",
    "answer_in = np.load('dataset/answer_in_ms_1.npy')\n",
    "questions = np.load('dataset/questions_ms_1.npy')"
   ]
  },
  {
   "cell_type": "code",
   "execution_count": 12,
   "id": "d638d152",
   "metadata": {},
   "outputs": [
    {
     "data": {
      "text/plain": [
       "5100"
      ]
     },
     "execution_count": 12,
     "metadata": {},
     "output_type": "execute_result"
    }
   ],
   "source": [
    "len(answer_in)"
   ]
  },
  {
   "cell_type": "code",
   "execution_count": 11,
   "id": "6c663c66",
   "metadata": {},
   "outputs": [
    {
     "data": {
      "text/plain": [
       "12847"
      ]
     },
     "execution_count": 11,
     "metadata": {},
     "output_type": "execute_result"
    }
   ],
   "source": [
    "a = (' '.join(questions) + ' '.join(answer_in) + ' '.join(answer_out)).split()\n",
    "len(set(a))"
   ]
  },
  {
   "cell_type": "code",
   "execution_count": 40,
   "id": "b33523a1",
   "metadata": {},
   "outputs": [
    {
     "data": {
      "text/plain": [
       "array(['분리 불안장애 심하다 강아지 종류 는 뭔가 요 분리 불안장애 강아지 종류 는 다 분리 불안장애 오다 건가 요',\n",
       "       '진도 강아지 세 살 제 가 외출 하울링 하다 불안장애 훈련 중 인데 집 훈련 이랑 잠자리 도 분리 해주다 게 좋다 대서 제 바로 옆 에 강아지 침대 놓다 자다',\n",
       "       '그래서 강아지 하다 마리 데려오다 하다 괜찮다', ...,\n",
       "       '저희 집 에 살 강아지 하다 마리 있다 요즘 약간 갑자기 심하다 낑낑대다 낑낑대다 안다 달다 전 에 잠깐 가지 고 놀다 닭 장난감 갑자기 자기 분신 처럼 엄청 갖다 다니다 막 구석 에 들어가다 해 요',\n",
       "       '보 니까 학교 도 가야 되다 학원 도 가야 되다 강아지 혼자 있다 시간 이 너무 많다 것 같다',\n",
       "       '내공 강아지 강아지 위험하다 동거 인가요'], dtype='<U139')"
      ]
     },
     "execution_count": 40,
     "metadata": {},
     "output_type": "execute_result"
    }
   ],
   "source": [
    "questions"
   ]
  },
  {
   "cell_type": "code",
   "execution_count": 1,
   "id": "50df3e8a",
   "metadata": {},
   "outputs": [
    {
     "ename": "NameError",
     "evalue": "name 'questions' is not defined",
     "output_type": "error",
     "traceback": [
      "\u001b[1;31m---------------------------------------------------------------------------\u001b[0m",
      "\u001b[1;31mNameError\u001b[0m                                 Traceback (most recent call last)",
      "\u001b[1;32m<ipython-input-1-c0d837656caa>\u001b[0m in \u001b[0;36m<module>\u001b[1;34m\u001b[0m\n\u001b[0;32m      1\u001b[0m \u001b[1;32mfrom\u001b[0m \u001b[0mtensorflow\u001b[0m\u001b[1;33m.\u001b[0m\u001b[0mkeras\u001b[0m\u001b[1;33m.\u001b[0m\u001b[0mpreprocessing\u001b[0m\u001b[1;33m.\u001b[0m\u001b[0mtext\u001b[0m \u001b[1;32mimport\u001b[0m \u001b[0mTokenizer\u001b[0m\u001b[1;33m\u001b[0m\u001b[1;33m\u001b[0m\u001b[0m\n\u001b[1;32m----> 2\u001b[1;33m \u001b[0mall_sentences\u001b[0m \u001b[1;33m=\u001b[0m \u001b[0mlist\u001b[0m\u001b[1;33m(\u001b[0m\u001b[0mquestions\u001b[0m\u001b[1;33m)\u001b[0m \u001b[1;33m+\u001b[0m \u001b[0mlist\u001b[0m\u001b[1;33m(\u001b[0m\u001b[0manswer_in\u001b[0m\u001b[1;33m)\u001b[0m \u001b[1;33m+\u001b[0m \u001b[0mlist\u001b[0m\u001b[1;33m(\u001b[0m\u001b[0manswer_out\u001b[0m\u001b[1;33m)\u001b[0m\u001b[1;33m\u001b[0m\u001b[1;33m\u001b[0m\u001b[0m\n\u001b[0m\u001b[0;32m      3\u001b[0m \u001b[1;33m\u001b[0m\u001b[0m\n\u001b[0;32m      4\u001b[0m \u001b[1;31m# Word_Index_Voca 작성\u001b[0m\u001b[1;33m\u001b[0m\u001b[1;33m\u001b[0m\u001b[1;33m\u001b[0m\u001b[0m\n\u001b[0;32m      5\u001b[0m \u001b[0mtokenizer\u001b[0m \u001b[1;33m=\u001b[0m \u001b[0mTokenizer\u001b[0m\u001b[1;33m(\u001b[0m\u001b[0mfilters\u001b[0m\u001b[1;33m=\u001b[0m\u001b[1;34m' '\u001b[0m\u001b[1;33m,\u001b[0m \u001b[0mlower\u001b[0m\u001b[1;33m=\u001b[0m\u001b[1;32mFalse\u001b[0m\u001b[1;33m,\u001b[0m \u001b[0moov_token\u001b[0m\u001b[1;33m=\u001b[0m\u001b[1;34m'<OOV>'\u001b[0m\u001b[1;33m)\u001b[0m\u001b[1;33m\u001b[0m\u001b[1;33m\u001b[0m\u001b[0m\n",
      "\u001b[1;31mNameError\u001b[0m: name 'questions' is not defined"
     ]
    }
   ],
   "source": [
    "from tensorflow.keras.preprocessing.text import Tokenizer\n",
    "all_sentences = list(questions) + list(answer_in) + list(answer_out)\n",
    "\n",
    "# Word_Index_Voca 작성\n",
    "tokenizer = Tokenizer(filters=' ', lower=False, oov_token='<OOV>')\n",
    "\n",
    "tokenizer.fit_on_texts(all_sentences)"
   ]
  },
  {
   "cell_type": "code",
   "execution_count": 27,
   "id": "25b69f1f",
   "metadata": {},
   "outputs": [
    {
     "name": "stdout",
     "output_type": "stream",
     "text": [
      "<OOV>\t >>> \t1\n",
      "강아지\t >>> \t2\n",
      "이\t >>> \t3\n",
      "을\t >>> \t4\n",
      "<START>\t >>> \t5\n",
      "<END>\t >>> \t6\n",
      "에\t >>> \t7\n",
      "가\t >>> \t8\n",
      "하다\t >>> \t9\n",
      "것\t >>> \t10\n",
      "를\t >>> \t11\n"
     ]
    }
   ],
   "source": [
    "# 상위 호출\n",
    "for word, idx in tokenizer.word_index.items():\n",
    "    print(f'{word}\\t >>> \\t{idx}')\n",
    "    if idx > 10:\n",
    "        break"
   ]
  },
  {
   "cell_type": "code",
   "execution_count": 37,
   "id": "3e28f9cc",
   "metadata": {},
   "outputs": [],
   "source": [
    "tokens = list(tokenizer.word_index.keys())"
   ]
  },
  {
   "cell_type": "code",
   "execution_count": 18,
   "id": "90063851",
   "metadata": {},
   "outputs": [
    {
     "data": {
      "text/plain": [
       "12846"
      ]
     },
     "execution_count": 18,
     "metadata": {},
     "output_type": "execute_result"
    }
   ],
   "source": [
    "# 토크나이저 워드 길이\n",
    "len(tokenizer.word_index)"
   ]
  },
  {
   "cell_type": "code",
   "execution_count": 19,
   "id": "372606e9",
   "metadata": {},
   "outputs": [],
   "source": [
    "np.save('model/tokenizer.npy', tokenizer)"
   ]
  },
  {
   "cell_type": "code",
   "execution_count": 20,
   "id": "f2c132ab",
   "metadata": {},
   "outputs": [],
   "source": [
    "from tensorflow.keras.preprocessing.sequence import pad_sequences\n",
    "question_sequence = tokenizer.texts_to_sequences(questions)\n",
    "answer_in_sequence = tokenizer.texts_to_sequences(answer_in)\n",
    "answer_out_sequence = tokenizer.texts_to_sequences(answer_out)"
   ]
  },
  {
   "cell_type": "code",
   "execution_count": 23,
   "id": "af9611b3",
   "metadata": {
    "collapsed": true
   },
   "outputs": [
    {
     "name": "stdout",
     "output_type": "stream",
     "text": [
      "[[381, 56, 436, 2, 258, 12, 527, 17, 381, 56, 2, 258, 12, 52, 381, 56, 111, 298, 17], [5991, 2, 573, 147, 30, 8, 236, 1116, 9, 56, 46, 103, 129, 21, 46, 412, 5992, 13, 381, 295, 29, 169, 3989, 30, 375, 239, 7, 2, 562, 659, 64], [157, 2, 9, 138, 449, 9, 445], [56, 2, 2, 343, 622, 361, 356, 361, 356, 145, 295], [617, 55, 173, 27, 16, 52, 446, 20, 99, 2412, 5501, 797, 14, 3073, 56, 241, 679, 80, 146, 860, 56, 1550, 105, 226, 641, 105, 1031, 758, 190, 219, 1335, 141, 1194, 9, 758], [2, 77, 56, 18, 85], [2, 30, 8, 14, 362, 44, 56, 338, 936, 17], [56, 916, 46, 16, 886, 93, 9, 32], [25, 21, 3, 5502, 11, 1735, 2, 40, 194, 604, 53, 289, 7, 20, 2, 25, 99, 50, 91, 77, 56, 40, 13, 617, 91, 5993, 78, 494, 111, 1089, 1430, 31, 2529, 11, 735, 191, 887], [2, 56, 11513, 2102, 3074]]\n"
     ]
    }
   ],
   "source": [
    "print(question_sequence[:10])"
   ]
  },
  {
   "cell_type": "code",
   "execution_count": 39,
   "id": "b5422658",
   "metadata": {},
   "outputs": [],
   "source": [
    "stopwords = ['의','가','이','은','들','는','좀','잘','걍','과','도','를','으로','자','에','와','한','하다']"
   ]
  },
  {
   "cell_type": "code",
   "execution_count": 43,
   "id": "175e5879",
   "metadata": {},
   "outputs": [],
   "source": [
    "# 토큰화\n",
    "okt = Okt()\n",
    "tokenized_data = []\n",
    "for sen in all_sentences:\n",
    "    temp_x = okt.morphs(sen, stem = True)\n",
    "    temp_x = [word for word in temp_x if not word in stopwords]\n",
    "    tokenized_data.append(temp_x)"
   ]
  },
  {
   "cell_type": "code",
   "execution_count": 46,
   "id": "77e95ea6",
   "metadata": {},
   "outputs": [
    {
     "name": "stdout",
     "output_type": "stream",
     "text": [
      "문장의 최대 토큰 개수 : 46\n",
      "문장의 평균 토큰 개수 : 15.53169934640523\n"
     ]
    },
    {
     "data": {
      "image/png": "[encoded data removed]",
      "text/plain": [
       "<Figure size 432x288 with 1 Axes>"
      ]
     },
     "metadata": {
      "needs_background": "light"
     },
     "output_type": "display_data"
    }
   ],
   "source": [
    "# 문장별 토큰 분포 확인\n",
    "print('문장의 최대 토큰 개수 :',max(len(l) for l in tokenized_data))\n",
    "print('문장의 평균 토큰 개수 :',sum(map(len, tokenized_data))/len(tokenized_data))\n",
    "plt.hist([len(s) for s in tokenized_data], bins=46)\n",
    "plt.xlabel('number of sentences')\n",
    "plt.ylabel('number of samples')\n",
    "plt.show()"
   ]
  },
  {
   "cell_type": "code",
   "execution_count": 48,
   "id": "10afc20c",
   "metadata": {},
   "outputs": [],
   "source": [
    "# word2vec 학습\n",
    "model = Word2Vec(sentences = tokenized_data, vector_size = 100, window = 5, min_count = 3, workers=4, sg = 1)"
   ]
  },
  {
   "cell_type": "code",
   "execution_count": 70,
   "id": "4e4e3518",
   "metadata": {},
   "outputs": [],
   "source": [
    "from gensim.models import KeyedVectors\n",
    "# 학습된 모델 저장\n",
    "model.wv.save_word2vec_format('test_w2v')\n",
    "loaded_model =  KeyedVectors.load_word2vec_format('test_w2v')"
   ]
  },
  {
   "cell_type": "markdown",
   "id": "06c3e022",
   "metadata": {},
   "source": [
    "### 워드 임베딩 모델로부터 2개의 tsv 파일 생성하기"
   ]
  },
  {
   "cell_type": "code",
   "execution_count": 75,
   "id": "dd918f24",
   "metadata": {},
   "outputs": [
    {
     "name": "stderr",
     "output_type": "stream",
     "text": [
      "C:\\ProgramData\\Anaconda3\\envs\\da\\lib\\site-packages\\gensim\\similarities\\__init__.py:15: UserWarning: The gensim.similarities.levenshtein submodule is disabled, because the optional Levenshtein package <https://pypi.org/project/python-Levenshtein/> is unavailable. Install Levenhstein (e.g. `pip install python-Levenshtein`) to suppress this warning.\n",
      "  warnings.warn(msg)\n",
      "2021-07-01 09:51:11,618 - word2vec2tensor - INFO - running C:\\ProgramData\\Anaconda3\\envs\\da\\lib\\site-packages\\gensim\\scripts\\word2vec2tensor.py --input test_w2v --output test_w2v\n",
      "2021-07-01 09:51:11,618 - keyedvectors - INFO - loading projection weights from test_w2v\n",
      "2021-07-01 09:51:12,023 - utils - INFO - KeyedVectors lifecycle event {'msg': 'loaded (4036, 100) matrix of type float32 from test_w2v', 'binary': False, 'encoding': 'utf8', 'datetime': '2021-07-01T09:51:12.022350', 'gensim': '4.0.1', 'python': '3.8.8 (default, Apr 13 2021, 15:08:03) [MSC v.1916 64 bit (AMD64)]', 'platform': 'Windows-10-10.0.19041-SP0', 'event': 'load_word2vec_format'}\n",
      "2021-07-01 09:51:12,272 - word2vec2tensor - INFO - 2D tensor file saved to test_w2v_tensor.tsv\n",
      "2021-07-01 09:51:12,272 - word2vec2tensor - INFO - Tensor metadata file saved to test_w2v_metadata.tsv\n",
      "2021-07-01 09:51:12,272 - word2vec2tensor - INFO - finished running word2vec2tensor.py\n"
     ]
    }
   ],
   "source": [
    "!python -m gensim.scripts.word2vec2tensor --input test_w2v --output test_w2v"
   ]
  },
  {
   "cell_type": "code",
   "execution_count": 74,
   "id": "ae40b313",
   "metadata": {},
   "outputs": [
    {
     "data": {
      "text/plain": [
       "array([[-2.6049054e-01,  7.7991500e-02,  4.8992403e-02, ...,\n",
       "        -4.4098520e-01,  1.6346113e-01,  1.4093386e-01],\n",
       "       [-3.8322750e-01,  1.7960331e-01,  6.8524130e-02, ...,\n",
       "        -2.3748209e-01,  1.8296970e-01,  1.9399387e-01],\n",
       "       [-1.6578224e-01, -3.4889810e-05,  1.7194155e-01, ...,\n",
       "        -1.3591005e-01,  3.8818642e-01,  1.9743215e-01],\n",
       "       ...,\n",
       "       [-5.6942724e-02,  1.7155591e-02,  3.7215963e-02, ...,\n",
       "        -5.9989374e-02,  7.7722524e-03, -5.8937036e-02],\n",
       "       [-2.7796049e-02, -1.4539381e-02,  2.2272782e-02, ...,\n",
       "        -1.4640407e-01,  4.0961951e-02, -6.6890538e-02],\n",
       "       [-3.1245163e-02,  4.9798056e-02,  7.8768032e-03, ...,\n",
       "        -9.5752537e-02,  1.6505923e-02, -4.5375530e-02]], dtype=float32)"
      ]
     },
     "execution_count": 74,
     "metadata": {},
     "output_type": "execute_result"
    }
   ],
   "source": [
    "loaded_model.vectors"
   ]
  },
  {
   "cell_type": "code",
   "execution_count": 50,
   "id": "89b60640",
   "metadata": {},
   "outputs": [
    {
     "data": {
      "text/plain": [
       "array([[-2.60490537e-01,  7.79915005e-02,  4.89924029e-02,\n",
       "         2.32957616e-01, -2.14193344e-01, -3.02454263e-01,\n",
       "         4.74689960e-01,  5.28668225e-01, -4.14930195e-01,\n",
       "        -4.60141450e-01,  3.10039282e-01, -8.37918445e-02,\n",
       "        -9.75146815e-02,  1.64852887e-01, -1.14801712e-01,\n",
       "         1.22331046e-02,  1.51971236e-01,  1.85186699e-01,\n",
       "        -5.70385575e-01, -4.03050423e-01,  2.90479690e-01,\n",
       "        -8.74555632e-02, -3.97107489e-02,  1.15842380e-01,\n",
       "         2.09373251e-01,  5.98559044e-02, -9.92245078e-02,\n",
       "        -3.39241847e-02, -1.83002427e-01,  1.90469429e-01,\n",
       "        -2.79257357e-01,  7.13378638e-02,  4.02563140e-02,\n",
       "        -1.84752159e-02,  5.43544926e-02,  1.85530946e-01,\n",
       "         4.10757959e-01, -5.05664289e-01, -3.30557264e-02,\n",
       "        -4.23666149e-01, -3.51148844e-01,  4.26680818e-02,\n",
       "        -8.28852728e-02,  9.72136408e-02,  1.46402768e-03,\n",
       "        -6.68729395e-02, -1.55558676e-01,  1.95463166e-01,\n",
       "         9.30720642e-02,  1.43622935e-01,  1.19427390e-01,\n",
       "        -3.32747139e-02, -2.04549938e-01, -1.01366565e-01,\n",
       "         3.42233330e-02,  1.29381016e-01,  3.29679906e-01,\n",
       "        -1.59742370e-01, -1.86811328e-01, -3.27038988e-02,\n",
       "        -5.86594455e-02, -1.44710392e-01,  1.38894320e-02,\n",
       "        -1.12222202e-01, -3.27379376e-01,  2.66432285e-01,\n",
       "        -1.55287534e-01,  2.84835637e-01, -1.60985932e-01,\n",
       "         1.84299678e-01,  2.75738508e-01,  2.68367350e-01,\n",
       "         4.04176235e-01, -3.08639944e-01,  9.91715211e-03,\n",
       "         2.61916876e-01,  1.89127341e-01, -1.44550735e-02,\n",
       "        -3.02308142e-01, -3.13523114e-01,  6.89402148e-02,\n",
       "        -9.66977254e-02,  2.73999851e-02,  3.16639423e-01,\n",
       "         2.21216977e-02,  1.59227997e-02, -1.48308456e-01,\n",
       "        -2.93147027e-01,  9.25025418e-02,  1.42614216e-01,\n",
       "         8.48606005e-02,  1.03187740e-01, -2.38448128e-01,\n",
       "         1.19087748e-01,  5.61779380e-01,  2.03392312e-01,\n",
       "         3.86283286e-02, -4.40985203e-01,  1.63461134e-01,\n",
       "         1.40933856e-01],\n",
       "       [-3.83227497e-01,  1.79603308e-01,  6.85241297e-02,\n",
       "         4.73780602e-01, -4.26951088e-02, -4.24238354e-01,\n",
       "         2.00551957e-01,  2.89174885e-01, -3.61144245e-01,\n",
       "        -7.30946183e-01, -5.50664365e-02, -2.78179556e-01,\n",
       "        -1.83025613e-01,  2.09089249e-01,  2.33221605e-01,\n",
       "         1.98059883e-02,  1.91296086e-01, -9.74579751e-02,\n",
       "        -9.99591127e-02, -2.47866988e-01,  3.75715107e-01,\n",
       "        -1.36848733e-01,  1.51271939e-01, -3.01455587e-01,\n",
       "         7.12184161e-02,  3.45494509e-01, -3.14663291e-01,\n",
       "        -2.58872479e-01, -1.36834029e-02,  1.11950919e-01,\n",
       "         6.70925379e-01,  6.76890537e-02,  1.72866747e-01,\n",
       "        -3.52975875e-01, -2.82956697e-02,  2.47619107e-01,\n",
       "         5.24797618e-01,  4.71922159e-02,  7.05823004e-02,\n",
       "        -5.33041134e-02, -1.76102705e-02, -3.00351441e-01,\n",
       "        -1.72255889e-01, -6.25785738e-02,  5.24901450e-02,\n",
       "        -1.49434030e-01, -3.69499117e-01, -2.47432575e-01,\n",
       "        -3.02468725e-02,  3.54936197e-02,  1.26547292e-01,\n",
       "        -5.00985980e-01,  1.34188801e-01, -5.93866147e-02,\n",
       "        -3.08986083e-02,  2.79524773e-01,  2.32402653e-01,\n",
       "        -1.40101001e-01,  9.07605328e-03,  2.30162479e-02,\n",
       "        -1.56239092e-01, -2.55049706e-01, -8.86981338e-02,\n",
       "        -2.19753161e-01,  5.55449426e-02,  3.48051816e-01,\n",
       "         6.67259768e-02,  4.59888011e-01, -2.37879052e-04,\n",
       "         1.54083535e-01, -9.55045819e-02,  3.86650562e-01,\n",
       "         4.42933351e-01, -2.43012421e-02,  1.90540969e-01,\n",
       "        -1.04151980e-03,  3.20378505e-02,  3.05013567e-01,\n",
       "        -5.73673099e-02,  1.55988038e-01,  7.69675151e-02,\n",
       "        -1.12718716e-01, -5.85054234e-02,  4.14759517e-01,\n",
       "         1.37798801e-01, -1.26077279e-01,  4.56273258e-01,\n",
       "        -5.07651508e-01,  3.95854056e-01,  2.25881740e-01,\n",
       "         2.45869327e-02,  9.61186886e-02, -2.12214649e-01,\n",
       "         1.76699087e-02,  4.60653931e-01,  2.66686618e-01,\n",
       "         1.85306445e-02, -2.37482086e-01,  1.82969704e-01,\n",
       "         1.93993866e-01],\n",
       "       [-1.65782243e-01, -3.48898102e-05,  1.71941549e-01,\n",
       "         4.82610941e-01, -1.87730327e-01, -1.34583980e-01,\n",
       "         1.73564836e-01,  3.23192388e-01,  2.43945215e-02,\n",
       "        -2.21879736e-01,  2.31604487e-01, -5.91177285e-01,\n",
       "         7.93635771e-02,  1.20965831e-01,  1.58658922e-01,\n",
       "        -1.73901930e-01, -6.34440035e-02,  3.49000812e-01,\n",
       "        -1.67264178e-01, -3.17272663e-01,  1.48860037e-01,\n",
       "        -9.22620967e-02,  8.20241049e-02,  1.83118284e-01,\n",
       "        -1.28039077e-01,  1.95478693e-01, -9.99625996e-02,\n",
       "         1.93888888e-01, -1.20591745e-01,  7.70320222e-02,\n",
       "         2.24534079e-01, -2.47875124e-01, -1.15798162e-02,\n",
       "         1.23599991e-02,  1.09301716e-01,  2.96552360e-01,\n",
       "         2.14007914e-01, -1.06168613e-01, -8.13672990e-02,\n",
       "        -8.34822133e-02, -6.39447495e-02,  3.60240811e-03,\n",
       "         4.74350378e-02, -9.82476100e-02,  5.75278580e-01,\n",
       "        -2.37970695e-01, -1.89568073e-01, -2.68502103e-04,\n",
       "         2.21606687e-01,  2.16833398e-01,  9.34574604e-02,\n",
       "         1.79529086e-01, -1.09352097e-01, -3.63334537e-01,\n",
       "         1.38163894e-01, -1.74417824e-01, -6.68630973e-02,\n",
       "         6.13771677e-02, -2.53675491e-01,  2.65219901e-02,\n",
       "         1.33958787e-01, -1.40322402e-01,  2.74998099e-01,\n",
       "         2.51956005e-02, -4.63716030e-01,  4.47924048e-01,\n",
       "        -1.89876318e-01,  6.34922206e-01, -1.16869360e-01,\n",
       "         3.21804732e-01,  5.00595309e-02,  2.26533875e-01,\n",
       "         3.98064762e-01,  5.74958250e-02,  3.66401851e-01,\n",
       "         4.91596371e-01,  6.02026321e-02,  3.17827240e-02,\n",
       "         7.23704770e-02,  1.41601950e-01,  3.73400331e-01,\n",
       "        -2.64498204e-01, -2.19534308e-01,  2.45605558e-01,\n",
       "         2.74972916e-01, -2.47652680e-01,  2.36805081e-01,\n",
       "         8.19212012e-03,  6.11010969e-01,  1.16748489e-01,\n",
       "         1.37526050e-01,  1.87291533e-01,  4.63176370e-02,\n",
       "        -1.70925394e-01,  7.87795126e-01, -7.36822784e-02,\n",
       "        -1.70106888e-01, -1.35910049e-01,  3.88186425e-01,\n",
       "         1.97432145e-01],\n",
       "       [-3.87716591e-01,  6.01452030e-02, -2.42223162e-02,\n",
       "         4.33435351e-01,  4.22840625e-01, -4.73211825e-01,\n",
       "         6.05776131e-01,  4.53025311e-01, -3.85644026e-02,\n",
       "        -3.81987870e-01,  6.60123602e-02, -2.97464639e-01,\n",
       "         3.16736940e-03, -1.62695870e-02,  1.97285265e-01,\n",
       "        -1.91694483e-01,  2.49958001e-02, -2.39722088e-01,\n",
       "        -1.22074023e-01, -1.08737648e-02,  4.19859707e-01,\n",
       "        -1.97184846e-01,  2.29923606e-01,  4.74471003e-01,\n",
       "        -3.51782560e-01, -4.03833687e-01, -2.46131301e-01,\n",
       "         1.75362825e-01,  2.25490138e-01, -2.49128118e-01,\n",
       "         1.86708465e-01, -3.15243304e-01, -1.05031937e-01,\n",
       "        -2.39992753e-01,  3.02254587e-01,  4.71226186e-01,\n",
       "         3.91090989e-01, -3.99196327e-01, -2.48151645e-01,\n",
       "        -3.87372822e-01, -1.65622354e-01,  7.74940476e-03,\n",
       "         5.33565022e-02, -5.48378192e-03,  1.61175594e-01,\n",
       "        -2.83862025e-01, -2.19705909e-01, -1.50906369e-01,\n",
       "        -2.84661263e-01,  3.95890474e-01, -1.26498401e-01,\n",
       "        -1.50382921e-01, -4.09408152e-01, -5.13720095e-01,\n",
       "        -1.62861571e-01,  3.06958675e-01, -2.78683677e-02,\n",
       "        -1.79917831e-02, -2.08773300e-01, -3.86100888e-01,\n",
       "        -1.09768234e-01,  3.80836040e-01,  2.23303378e-01,\n",
       "        -4.16708738e-01,  1.45454546e-02, -1.35349035e-01,\n",
       "         1.96992069e-01,  8.00261423e-02, -5.11053622e-01,\n",
       "         1.93267733e-01,  3.09612632e-01,  1.41279981e-01,\n",
       "         1.21857002e-01,  1.06677972e-02,  2.24659801e-01,\n",
       "        -3.09872121e-01,  5.16256168e-02,  5.04416347e-01,\n",
       "         1.44474790e-01, -4.06208076e-02, -2.29027063e-01,\n",
       "         2.52445728e-01, -3.38239998e-01,  7.69860625e-01,\n",
       "         1.30812712e-02, -2.19234481e-01,  4.24679101e-01,\n",
       "        -5.81509992e-02, -4.96007875e-03, -2.83447772e-01,\n",
       "        -2.06306562e-01, -8.25134739e-02,  1.28962994e-01,\n",
       "         1.64746568e-01,  7.40955770e-01, -2.80203015e-01,\n",
       "        -7.11557940e-02, -2.05910876e-01,  2.04297706e-01,\n",
       "         5.51230311e-02],\n",
       "       [ 1.30425408e-01,  2.04857811e-01,  2.31275514e-01,\n",
       "         7.49377310e-02, -6.18028641e-01, -5.02215624e-01,\n",
       "         2.39204422e-01,  3.55290711e-01, -5.00620723e-01,\n",
       "        -6.22413933e-01, -3.62237304e-01, -3.83870453e-02,\n",
       "        -4.87612307e-01,  3.25584859e-01,  1.05042472e-01,\n",
       "        -5.04501343e-01, -2.16715366e-01, -2.72925019e-01,\n",
       "         1.39178082e-01, -5.55712402e-01,  4.45241779e-01,\n",
       "         2.00295895e-01,  1.75810918e-01,  2.97148436e-01,\n",
       "        -2.71727443e-01, -1.58383086e-01, -4.75270838e-01,\n",
       "         1.23926178e-02,  2.30293237e-02,  2.88149446e-01,\n",
       "        -1.95659287e-02,  3.20421085e-02, -2.85493851e-01,\n",
       "        -4.89863306e-02,  7.76295960e-02,  5.26989043e-01,\n",
       "         4.87516373e-01, -1.13844864e-01,  3.10337520e-03,\n",
       "        -2.04461798e-01,  3.08593750e-01, -2.01950613e-02,\n",
       "        -2.72342190e-02,  2.36076012e-01, -2.30888322e-01,\n",
       "        -3.00320894e-01, -1.66277558e-01, -8.20450671e-03,\n",
       "         1.36889610e-02, -1.87613443e-01,  1.26496553e-01,\n",
       "        -1.26224175e-01,  2.14422449e-01, -4.22724426e-01,\n",
       "         1.04799263e-01, -7.44030252e-02, -6.35861978e-02,\n",
       "        -1.29342958e-01,  1.01365909e-01, -4.22704607e-01,\n",
       "         2.17355311e-01, -9.21291560e-02, -1.05262160e-01,\n",
       "        -1.00654162e-01, -3.10806222e-02,  1.30653590e-01,\n",
       "         1.14029236e-01,  3.12279344e-01, -5.74380159e-01,\n",
       "        -7.01200441e-02,  2.04439927e-02, -1.38808936e-01,\n",
       "         4.34840083e-01,  3.18665355e-02,  5.14284790e-01,\n",
       "         6.18553460e-01,  1.25330955e-01,  2.07793206e-01,\n",
       "        -1.05107203e-01,  2.31004983e-01,  1.30730793e-01,\n",
       "         2.55443603e-01, -2.61438757e-01,  5.85808218e-01,\n",
       "        -2.22539872e-01, -3.27056438e-01,  1.50290906e-01,\n",
       "        -3.78245890e-01,  1.61890283e-01,  5.14114611e-02,\n",
       "         3.61036249e-02, -2.98557281e-02,  6.44056574e-02,\n",
       "        -1.41045541e-01,  3.63619328e-01, -2.08619818e-01,\n",
       "        -2.44174466e-01, -4.33271706e-01,  7.22363710e-01,\n",
       "         1.18408069e-01],\n",
       "       [-1.37459874e-01,  9.88717377e-02,  3.08934391e-01,\n",
       "        -2.32296251e-02, -1.59291595e-01, -3.81100208e-01,\n",
       "         1.47774994e-01,  4.43586707e-01, -6.73072487e-02,\n",
       "        -2.41773918e-01, -9.13363695e-02,  1.04769699e-01,\n",
       "        -6.34497032e-02, -3.70816365e-02, -2.64118426e-02,\n",
       "        -3.12425107e-01,  2.13805102e-02,  1.27479166e-01,\n",
       "        -7.42751285e-02, -2.45904177e-01, -2.10047424e-01,\n",
       "         2.22691625e-01, -1.61382537e-02,  4.93241459e-01,\n",
       "         3.30436304e-02, -1.58953309e-01, -1.80201069e-01,\n",
       "        -2.84293234e-01, -1.03109688e-01,  3.71695697e-01,\n",
       "        -5.35064889e-03, -1.38223261e-01,  9.30831358e-02,\n",
       "        -8.88838172e-02,  1.47209644e-01,  2.04267636e-01,\n",
       "         3.93214971e-01, -3.87044698e-01,  1.34982631e-01,\n",
       "        -1.48740828e-01, -1.48768947e-01, -4.84491363e-02,\n",
       "        -1.07923225e-01, -1.90347791e-01,  6.78425059e-02,\n",
       "        -4.90408123e-01, -3.02125722e-01,  4.41002488e-01,\n",
       "        -2.80859675e-02, -1.35458168e-02,  2.91234016e-01,\n",
       "        -1.65917888e-01,  2.31770635e-01, -1.77106559e-01,\n",
       "        -2.74128228e-01,  5.09488881e-01,  1.41358376e-01,\n",
       "        -2.23120719e-01, -5.21674231e-02, -4.91605043e-01,\n",
       "         3.20130885e-01,  1.26466319e-01,  8.82377550e-02,\n",
       "        -2.03599066e-01, -2.22924575e-01,  1.57934099e-01,\n",
       "        -3.39750111e-01,  5.28687596e-01, -1.96134672e-01,\n",
       "        -2.41015613e-01, -1.43629098e-02,  2.82882601e-01,\n",
       "         5.97186863e-01, -1.88419014e-01,  1.10072330e-01,\n",
       "         3.30535352e-01,  5.14915511e-02, -1.40882596e-01,\n",
       "        -3.72894317e-01,  4.78244685e-02,  1.57038257e-01,\n",
       "         4.89743873e-02,  1.69715926e-01,  3.05827737e-01,\n",
       "        -1.30255774e-01,  5.92075847e-02, -2.63188571e-01,\n",
       "         2.99815595e-01, -1.87818214e-01,  1.87851172e-02,\n",
       "         5.60523808e-01, -9.20417309e-02, -1.54617801e-01,\n",
       "         4.43636090e-01,  5.60532451e-01, -4.37317193e-02,\n",
       "         1.89393491e-01, -3.92329842e-01, -4.52643186e-02,\n",
       "         1.14438474e-01],\n",
       "       [ 4.15537745e-01, -1.48886591e-01, -1.26404732e-01,\n",
       "         2.07154110e-01, -2.60356396e-01, -2.45701149e-01,\n",
       "         3.70997399e-01,  2.07500339e-01, -1.65704325e-01,\n",
       "        -7.35827744e-01,  5.32797091e-02,  1.06725238e-01,\n",
       "        -3.82033229e-01,  2.72982717e-01, -1.21372402e-01,\n",
       "        -2.60861665e-01, -1.11908680e-02,  1.38179332e-01,\n",
       "        -5.43438420e-02, -4.50646818e-01,  2.62105912e-01,\n",
       "         4.07113284e-02,  3.71045858e-01,  4.32365537e-01,\n",
       "         1.28630191e-01, -2.72709012e-01, -2.35799327e-01,\n",
       "         2.69376904e-01, -2.28799656e-01, -2.17647895e-01,\n",
       "         3.50128651e-01,  1.41213208e-01,  8.36542323e-02,\n",
       "        -5.78737408e-02, -1.93799753e-02,  1.17659466e-02,\n",
       "         1.02168396e-01, -5.22713721e-01,  3.67464162e-02,\n",
       "        -7.14236945e-02, -1.61295086e-01, -6.49250224e-02,\n",
       "         7.52906576e-02, -3.57986689e-01,  7.92960972e-02,\n",
       "        -2.85016038e-02, -5.35213709e-01, -6.29232004e-02,\n",
       "         2.92184472e-01,  3.16806912e-01, -5.57582360e-03,\n",
       "        -6.19080007e-01,  4.44369279e-02, -2.90527791e-01,\n",
       "        -1.95686430e-01,  2.69129630e-02, -2.07425967e-01,\n",
       "        -3.20883125e-01, -3.72878790e-01, -2.15869322e-01,\n",
       "        -2.18185298e-02, -2.32366517e-01,  4.88813296e-02,\n",
       "         7.01501444e-02, -2.77662873e-01,  1.35216922e-01,\n",
       "        -2.48307213e-01,  5.92737533e-02, -1.71556741e-01,\n",
       "         9.08240303e-02, -3.06034178e-01,  1.34719238e-01,\n",
       "         8.55329260e-02, -3.65822434e-01,  1.61945820e-01,\n",
       "         4.28565502e-01,  1.59241501e-02,  4.13661927e-01,\n",
       "        -8.55119154e-02,  2.41159558e-01,  3.80601287e-02,\n",
       "        -2.11945072e-01, -3.65877002e-01,  6.29137456e-01,\n",
       "        -1.07377380e-01, -2.77716488e-01,  4.54491973e-01,\n",
       "        -1.19524086e-02,  1.05192363e-02,  1.61305472e-01,\n",
       "        -7.28272796e-02,  3.11412275e-01, -2.65047222e-01,\n",
       "         2.00685799e-01,  2.88150102e-01, -2.00459927e-01,\n",
       "         1.78980380e-01, -3.12321246e-01,  5.54720778e-03,\n",
       "         3.36791463e-02],\n",
       "       [ 1.38424337e-01, -2.97143608e-01,  1.93648368e-01,\n",
       "         4.14039016e-01, -2.67704517e-01, -1.60989523e-01,\n",
       "         3.62781554e-01,  1.00934111e-01, -8.58930498e-02,\n",
       "        -4.83028650e-01,  1.57992616e-01,  6.04643896e-02,\n",
       "        -9.24524367e-02, -2.28553727e-01, -7.04962946e-03,\n",
       "         2.03460585e-02, -9.65915099e-02, -1.28001705e-01,\n",
       "        -4.23741601e-02, -2.96342194e-01,  1.94174677e-01,\n",
       "         4.91621085e-02,  4.73306663e-02, -2.10210666e-01,\n",
       "        -1.58874631e-01, -3.38226184e-02,  2.10157245e-01,\n",
       "         1.15610123e-01, -2.81485915e-01,  3.64267319e-01,\n",
       "        -3.16123618e-03, -2.31551696e-02,  1.53171420e-01,\n",
       "        -8.19226727e-02,  7.01380372e-02, -8.57511312e-02,\n",
       "        -1.29490748e-01, -6.70262277e-02,  2.99492739e-02,\n",
       "        -1.08452328e-01, -5.73458113e-02, -1.50803253e-01,\n",
       "        -1.02589317e-02,  1.24041304e-01,  1.05128884e-01,\n",
       "        -4.48244929e-01, -6.55514359e-01,  4.05225545e-01,\n",
       "        -7.05841370e-03,  2.62237549e-01, -5.23159988e-02,\n",
       "        -1.46407261e-01,  2.81710625e-01, -3.93092811e-01,\n",
       "        -2.62067374e-03,  4.66011941e-01, -2.99329334e-03,\n",
       "         5.82467020e-02, -2.36940924e-02,  3.96979839e-01,\n",
       "        -7.04722330e-02,  1.97951466e-01, -1.67843953e-01,\n",
       "         3.49343956e-01, -2.23574057e-01,  2.19418451e-01,\n",
       "        -2.75951236e-01,  4.50752407e-01, -1.93078935e-01,\n",
       "        -9.06462520e-02, -8.57950374e-02,  1.52476460e-01,\n",
       "         1.44617170e-01, -2.08382040e-01,  8.18056688e-02,\n",
       "         1.35032320e-02,  3.35901171e-01, -2.46542558e-01,\n",
       "        -1.11775240e-02, -4.18429583e-01, -4.93188330e-04,\n",
       "         5.15762419e-02, -3.85664940e-01,  4.38623548e-01,\n",
       "        -3.82849132e-03,  5.15186191e-02,  2.31554270e-01,\n",
       "         3.33603591e-01,  3.49277705e-01,  1.45203903e-01,\n",
       "         3.10493279e-02,  1.40398055e-01, -4.51733410e-01,\n",
       "         3.93705964e-01, -3.84680964e-02,  4.59797010e-02,\n",
       "        -3.34464312e-02, -3.60252529e-01,  3.43690187e-01,\n",
       "        -1.37176052e-01],\n",
       "       [-1.52747601e-01,  8.25780481e-02,  1.63937993e-02,\n",
       "         3.28784645e-01, -6.86612502e-02, -3.80329072e-01,\n",
       "         4.54526722e-01,  5.86617477e-02,  3.96864414e-02,\n",
       "        -2.90918976e-01,  1.69401854e-01, -2.56145984e-01,\n",
       "         2.44625568e-01, -1.89081445e-01,  2.57401705e-01,\n",
       "         3.36627781e-01, -6.44285977e-02, -3.42896789e-01,\n",
       "        -2.27747392e-02, -3.81517470e-01, -4.53825071e-02,\n",
       "         1.29790604e-01, -2.69099176e-01, -3.48249972e-02,\n",
       "        -7.63749098e-03, -1.76835239e-01, -4.39497650e-01,\n",
       "        -7.48228729e-02,  1.62994146e-01, -5.79821646e-01,\n",
       "         1.17029712e-01,  3.76709878e-01,  3.55286211e-01,\n",
       "         2.37407953e-01,  1.13601498e-01,  5.93232214e-01,\n",
       "         1.30576447e-01, -2.04911947e-01, -2.26392880e-01,\n",
       "        -5.14336288e-01, -1.42367870e-01, -3.44143808e-01,\n",
       "         6.48088753e-02, -6.91481307e-02, -3.79537456e-02,\n",
       "        -3.87165725e-01, -2.19625980e-01,  2.67404556e-01,\n",
       "         1.67192280e-01,  6.10575415e-02, -8.40085819e-02,\n",
       "        -1.48767263e-01,  3.80634636e-01, -1.89146981e-01,\n",
       "        -8.98857787e-02,  2.23677859e-01,  3.36853534e-01,\n",
       "        -1.23200521e-01,  5.94181657e-01, -1.36038572e-01,\n",
       "         3.19257267e-02,  4.36733440e-02,  2.00953022e-01,\n",
       "        -9.68354717e-02, -5.44980645e-01,  4.46580708e-01,\n",
       "        -2.46372163e-01,  3.17823797e-01, -7.30703890e-01,\n",
       "         5.88028468e-02, -2.57457882e-01,  1.51793942e-01,\n",
       "         2.64409911e-02, -1.02390483e-01,  8.86709169e-02,\n",
       "         1.52158141e-01, -1.73322067e-01,  2.49397501e-01,\n",
       "        -2.95474619e-01,  2.44730905e-01, -1.20782711e-01,\n",
       "         1.84239820e-01, -8.49100947e-02,  4.65728283e-01,\n",
       "        -1.02929426e-02, -2.69119650e-01, -3.40885371e-02,\n",
       "        -2.53983960e-02,  1.18400745e-01,  8.28975141e-02,\n",
       "        -1.73296798e-02,  1.78190589e-01, -2.14322507e-01,\n",
       "         2.31734794e-02,  6.13281012e-01, -1.85948655e-01,\n",
       "        -2.92067286e-02,  1.91509679e-01,  5.76623380e-01,\n",
       "         1.63621619e-01],\n",
       "       [ 2.36625783e-02, -1.60679221e-01, -1.62646443e-01,\n",
       "         2.88680255e-01, -2.34729514e-01, -8.53149116e-01,\n",
       "        -7.94456676e-02,  4.96778667e-01, -3.57314169e-01,\n",
       "        -5.15956581e-01,  2.06033826e-01, -2.56100953e-01,\n",
       "        -2.64331065e-02,  2.30996802e-01,  1.42293260e-01,\n",
       "         7.52848685e-02,  1.93451330e-01, -3.02701622e-01,\n",
       "         2.72241324e-01, -3.18399638e-01,  3.15048575e-01,\n",
       "         2.62880266e-01, -3.90599638e-01,  4.13985029e-02,\n",
       "         1.20868877e-01, -8.12201425e-02, -4.35402364e-01,\n",
       "         3.05738539e-01,  1.17289953e-01, -1.78934485e-02,\n",
       "         2.58274019e-01, -6.92959409e-03,  3.42900246e-01,\n",
       "        -6.80881739e-02,  1.22436345e-01,  3.63481998e-01,\n",
       "         1.22939155e-01, -1.29329607e-01,  1.97181389e-01,\n",
       "        -3.00004959e-01,  3.69489789e-01, -1.96474433e-01,\n",
       "        -1.61303416e-01, -1.96333826e-01, -1.48982361e-01,\n",
       "        -2.57770896e-01, -5.06815612e-01,  2.55363643e-01,\n",
       "         7.05563352e-02,  1.57238454e-01,  4.55912143e-01,\n",
       "        -7.33211190e-02,  3.88763435e-02, -1.63445860e-01,\n",
       "         2.05875233e-01,  1.60938174e-01, -8.44125375e-02,\n",
       "         8.49984065e-02, -2.20270753e-01, -1.98215395e-01,\n",
       "        -2.58338243e-01, -2.29552925e-01, -2.09864303e-01,\n",
       "         9.09922421e-02, -3.78314644e-01,  2.48142391e-01,\n",
       "         2.41664648e-01,  1.77075982e-01,  3.20279375e-02,\n",
       "         9.88408551e-02,  1.02564819e-01,  3.61868106e-02,\n",
       "         7.36031085e-02, -8.70524719e-02,  2.44769454e-01,\n",
       "         2.81014353e-01,  3.94923270e-01,  1.79788902e-01,\n",
       "         2.22377345e-01,  3.48511040e-01,  2.26574168e-02,\n",
       "         4.51243632e-02, -2.88666904e-01,  5.74715674e-01,\n",
       "         9.17008072e-02, -1.88300788e-01,  1.45892709e-01,\n",
       "         2.86584437e-01,  4.79981810e-01,  4.53204632e-01,\n",
       "         2.30466098e-01,  4.23915267e-01,  3.22904468e-01,\n",
       "         3.13819945e-01,  5.89598835e-01, -3.80849063e-01,\n",
       "        -3.84063929e-01,  2.94353366e-01,  2.22772509e-01,\n",
       "         1.20349778e-02]], dtype=float32)"
      ]
     },
     "execution_count": 50,
     "metadata": {},
     "output_type": "execute_result"
    }
   ],
   "source": [
    "model.wv.vectors[:10]"
   ]
  },
  {
   "cell_type": "code",
   "execution_count": 52,
   "id": "85f464ae",
   "metadata": {},
   "outputs": [
    {
     "name": "stdout",
     "output_type": "stream",
     "text": [
      "[('물론', 0.6859664916992188), ('그리고', 0.6775661706924438), ('품종', 0.6736265420913696), ('단점', 0.6702815294265747), ('지수', 0.6674889922142029), ('유난히', 0.6646629571914673), ('하지만', 0.6610081195831299), ('곱슬곱슬하다', 0.6607738733291626), ('초롱', 0.6606035828590393), ('여자', 0.6603826880455017)]\n"
     ]
    }
   ],
   "source": [
    "print(model.wv.most_similar(\"강아지\"))\n"
   ]
  },
  {
   "cell_type": "code",
   "execution_count": 3,
   "id": "1400c950",
   "metadata": {},
   "outputs": [],
   "source": [
    "from tensorflow.keras.layers import Input, Embedding, LSTM, Dense, Dropout, Attention\n",
    "from tensorflow.keras.models import Model\n",
    "from tensorflow.keras.models import load_model\n",
    "from tensorflow.keras.callbacks import ModelCheckpoint,EarlyStopping\n",
    "import tensorflow as tf\n",
    "import os"
   ]
  }
 ],
 "metadata": {
  "kernelspec": {
   "display_name": "Python 3",
   "language": "python",
   "name": "python3"
  },
  "language_info": {
   "codemirror_mode": {
    "name": "ipython",
    "version": 3
   },
   "file_extension": ".py",
   "mimetype": "text/x-python",
   "name": "python",
   "nbconvert_exporter": "python",
   "pygments_lexer": "ipython3",
   "version": "3.8.8"
  }
 },
 "nbformat": 4,
 "nbformat_minor": 5
}
